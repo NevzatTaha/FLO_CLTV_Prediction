{
 "cells": [
  {
   "cell_type": "code",
   "execution_count": 100,
   "metadata": {},
   "outputs": [],
   "source": [
    "import pandas as pd \n",
    "import numpy as np"
   ]
  },
  {
   "cell_type": "code",
   "execution_count": 101,
   "metadata": {},
   "outputs": [],
   "source": [
    "df=pd.read_csv(\"flo_data_20k.csv\")\n",
    "df_=df.copy()"
   ]
  },
  {
   "cell_type": "code",
   "execution_count": 102,
   "metadata": {},
   "outputs": [
    {
     "name": "stdout",
     "output_type": "stream",
     "text": [
      "<class 'pandas.core.frame.DataFrame'>\n",
      "RangeIndex: 19945 entries, 0 to 19944\n",
      "Data columns (total 12 columns):\n",
      " #   Column                             Non-Null Count  Dtype  \n",
      "---  ------                             --------------  -----  \n",
      " 0   master_id                          19945 non-null  object \n",
      " 1   order_channel                      19945 non-null  object \n",
      " 2   last_order_channel                 19945 non-null  object \n",
      " 3   first_order_date                   19945 non-null  object \n",
      " 4   last_order_date                    19945 non-null  object \n",
      " 5   last_order_date_online             19945 non-null  object \n",
      " 6   last_order_date_offline            19945 non-null  object \n",
      " 7   order_num_total_ever_online        19945 non-null  float64\n",
      " 8   order_num_total_ever_offline       19945 non-null  float64\n",
      " 9   customer_value_total_ever_offline  19945 non-null  float64\n",
      " 10  customer_value_total_ever_online   19945 non-null  float64\n",
      " 11  interested_in_categories_12        19945 non-null  object \n",
      "dtypes: float64(4), object(8)\n",
      "memory usage: 1.8+ MB\n"
     ]
    }
   ],
   "source": [
    "df.info()"
   ]
  },
  {
   "cell_type": "code",
   "execution_count": 103,
   "metadata": {},
   "outputs": [
    {
     "data": {
      "text/html": [
       "<div>\n",
       "<style scoped>\n",
       "    .dataframe tbody tr th:only-of-type {\n",
       "        vertical-align: middle;\n",
       "    }\n",
       "\n",
       "    .dataframe tbody tr th {\n",
       "        vertical-align: top;\n",
       "    }\n",
       "\n",
       "    .dataframe thead th {\n",
       "        text-align: right;\n",
       "    }\n",
       "</style>\n",
       "<table border=\"1\" class=\"dataframe\">\n",
       "  <thead>\n",
       "    <tr style=\"text-align: right;\">\n",
       "      <th></th>\n",
       "      <th>order_num_total_ever_online</th>\n",
       "      <th>order_num_total_ever_offline</th>\n",
       "      <th>customer_value_total_ever_offline</th>\n",
       "      <th>customer_value_total_ever_online</th>\n",
       "    </tr>\n",
       "  </thead>\n",
       "  <tbody>\n",
       "    <tr>\n",
       "      <th>count</th>\n",
       "      <td>19945.000000</td>\n",
       "      <td>19945.000000</td>\n",
       "      <td>19945.000000</td>\n",
       "      <td>19945.000000</td>\n",
       "    </tr>\n",
       "    <tr>\n",
       "      <th>mean</th>\n",
       "      <td>3.110855</td>\n",
       "      <td>1.913913</td>\n",
       "      <td>253.922597</td>\n",
       "      <td>497.321690</td>\n",
       "    </tr>\n",
       "    <tr>\n",
       "      <th>std</th>\n",
       "      <td>4.225647</td>\n",
       "      <td>2.062880</td>\n",
       "      <td>301.532853</td>\n",
       "      <td>832.601886</td>\n",
       "    </tr>\n",
       "    <tr>\n",
       "      <th>min</th>\n",
       "      <td>1.000000</td>\n",
       "      <td>1.000000</td>\n",
       "      <td>10.000000</td>\n",
       "      <td>12.990000</td>\n",
       "    </tr>\n",
       "    <tr>\n",
       "      <th>25%</th>\n",
       "      <td>1.000000</td>\n",
       "      <td>1.000000</td>\n",
       "      <td>99.990000</td>\n",
       "      <td>149.980000</td>\n",
       "    </tr>\n",
       "    <tr>\n",
       "      <th>50%</th>\n",
       "      <td>2.000000</td>\n",
       "      <td>1.000000</td>\n",
       "      <td>179.980000</td>\n",
       "      <td>286.460000</td>\n",
       "    </tr>\n",
       "    <tr>\n",
       "      <th>75%</th>\n",
       "      <td>4.000000</td>\n",
       "      <td>2.000000</td>\n",
       "      <td>319.970000</td>\n",
       "      <td>578.440000</td>\n",
       "    </tr>\n",
       "    <tr>\n",
       "      <th>max</th>\n",
       "      <td>200.000000</td>\n",
       "      <td>109.000000</td>\n",
       "      <td>18119.140000</td>\n",
       "      <td>45220.130000</td>\n",
       "    </tr>\n",
       "  </tbody>\n",
       "</table>\n",
       "</div>"
      ],
      "text/plain": [
       "       order_num_total_ever_online  order_num_total_ever_offline  \\\n",
       "count                 19945.000000                  19945.000000   \n",
       "mean                      3.110855                      1.913913   \n",
       "std                       4.225647                      2.062880   \n",
       "min                       1.000000                      1.000000   \n",
       "25%                       1.000000                      1.000000   \n",
       "50%                       2.000000                      1.000000   \n",
       "75%                       4.000000                      2.000000   \n",
       "max                     200.000000                    109.000000   \n",
       "\n",
       "       customer_value_total_ever_offline  customer_value_total_ever_online  \n",
       "count                       19945.000000                      19945.000000  \n",
       "mean                          253.922597                        497.321690  \n",
       "std                           301.532853                        832.601886  \n",
       "min                            10.000000                         12.990000  \n",
       "25%                            99.990000                        149.980000  \n",
       "50%                           179.980000                        286.460000  \n",
       "75%                           319.970000                        578.440000  \n",
       "max                         18119.140000                      45220.130000  "
      ]
     },
     "execution_count": 103,
     "metadata": {},
     "output_type": "execute_result"
    }
   ],
   "source": [
    "df.describe()"
   ]
  },
  {
   "cell_type": "code",
   "execution_count": 104,
   "metadata": {},
   "outputs": [
    {
     "ename": "IndentationError",
     "evalue": "unexpected indent (2047746303.py, line 14)",
     "output_type": "error",
     "traceback": [
      "\u001b[1;36m  Cell \u001b[1;32mIn[104], line 14\u001b[1;36m\u001b[0m\n\u001b[1;33m    df.loc[df[column]<lower,variable\u001b[0m\n\u001b[1;37m    ^\u001b[0m\n\u001b[1;31mIndentationError\u001b[0m\u001b[1;31m:\u001b[0m unexpected indent\n"
     ]
    }
   ],
   "source": [
    "def outlier_thresholds(df, column):\n",
    "    quartile1=df[column].quantile(0.1)\n",
    "    quartile2=df[column].quantile(0.99)\n",
    "    interquantile=quartile2-quartile1\n",
    "    \n",
    "    higher_thresholds= quartile2+ interquantile*1.5\n",
    "    lower_thresholds=quartile1- interquantile*1.5\n",
    "    return (higher_thresholds,lower_thresholds)\n",
    "\n",
    "\n",
    "    \n",
    "def replace_with_thresholds(df,column):\n",
    "    lower,higher =outlier_thresholds(df,column)\n",
    "     df.loc[df[column]<lower,variable"
   ]
  },
  {
   "cell_type": "code",
   "execution_count": null,
   "metadata": {},
   "outputs": [
    {
     "data": {
      "text/plain": [
       "(order_num_total_ever_online    48.5\n",
       " dtype: float64,\n",
       " order_num_total_ever_online   -27.5\n",
       " dtype: float64)"
      ]
     },
     "execution_count": 38,
     "metadata": {},
     "output_type": "execute_result"
    }
   ],
   "source": [
    "outlier_thresholds(df,[\"order_num_total_ever_online\"])"
   ]
  }
 ],
 "metadata": {
  "kernelspec": {
   "display_name": "base",
   "language": "python",
   "name": "python3"
  },
  "language_info": {
   "codemirror_mode": {
    "name": "ipython",
    "version": 3
   },
   "file_extension": ".py",
   "mimetype": "text/x-python",
   "name": "python",
   "nbconvert_exporter": "python",
   "pygments_lexer": "ipython3",
   "version": "3.10.13"
  }
 },
 "nbformat": 4,
 "nbformat_minor": 2
}
